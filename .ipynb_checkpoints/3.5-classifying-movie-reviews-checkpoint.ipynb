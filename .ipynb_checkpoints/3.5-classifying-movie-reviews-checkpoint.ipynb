{
 "cells": [
  {
   "cell_type": "code",
   "execution_count": 1,
   "metadata": {},
   "outputs": [
    {
     "name": "stderr",
     "output_type": "stream",
     "text": [
      "Using TensorFlow backend.\n"
     ]
    },
    {
     "data": {
      "text/plain": [
       "'2.2.4'"
      ]
     },
     "execution_count": 1,
     "metadata": {},
     "output_type": "execute_result"
    }
   ],
   "source": [
    "import keras\n",
    "keras.__version__"
   ]
  },
  {
   "cell_type": "code",
   "execution_count": 2,
   "metadata": {},
   "outputs": [],
   "source": [
    "## fix a runtime error ## XP\n",
    "import os\n",
    "os.environ['KMP_DUPLICATE_LIB_OK']='True'"
   ]
  },
  {
   "cell_type": "markdown",
   "metadata": {},
   "source": [
    "# Classifying movie reviews: a binary classification example\n",
    "\n",
    "This notebook contains the code samples found in Chapter 3, Section 5 of [Deep Learning with Python](https://www.manning.com/books/deep-learning-with-python?a_aid=keras&a_bid=76564dff). Note that the original text features far more content, in particular further explanations and figures: in this notebook, you will only find source code and related comments.\n",
    "\n",
    "----\n",
    "\n",
    "\n",
    "Two-class classification, or binary classification, may be the most widely applied kind of machine learning problem. In this example, we \n",
    "will learn to classify movie reviews into \"positive\" reviews and \"negative\" reviews, just based on the text content of the reviews."
   ]
  },
  {
   "cell_type": "markdown",
   "metadata": {},
   "source": [
    "## The IMDB dataset\n",
    "\n",
    "\n",
    "We'll be working with \"IMDB dataset\", a set of 50,000 highly-polarized reviews from the Internet Movie Database. They are split into 25,000 \n",
    "reviews for training and 25,000 reviews for testing, each set consisting in 50% negative and 50% positive reviews. URL: https://www.kaggle.com/lakshmi25npathi/imdb-dataset-of-50k-movie-reviews\n",
    "\n",
    "Why do we have these two separate training and test sets? You should never test a machine learning model on the same data that you used to \n",
    "train it! Just because a model performs well on its training data doesn't mean that it will perform well on data it has never seen, and \n",
    "what you actually care about is your model's performance on new data (since you already know the labels of your training data -- obviously \n",
    "you don't need your model to predict those). For instance, it is possible that your model could end up merely _memorizing_ a mapping between \n",
    "your training samples and their targets -- which would be completely useless for the task of predicting targets for data never seen before. \n",
    "We will go over this point in much more detail in the next chapter.\n",
    "\n",
    "Just like the MNIST dataset, the IMDB dataset comes packaged with Keras. It has already been preprocessed: the reviews (sequences of words) \n",
    "have been turned into sequences of integers, where each integer stands for a specific word in a dictionary.\n",
    "\n",
    "The following code will load the dataset (when you run it for the first time, about 80MB of data will be downloaded to your machine):"
   ]
  },
  {
   "cell_type": "code",
   "execution_count": 3,
   "metadata": {},
   "outputs": [],
   "source": [
    "from keras.datasets import imdb\n",
    "\n",
    "(train_data, train_labels), (test_data, test_labels) = imdb.load_data(num_words=10000)"
   ]
  },
  {
   "cell_type": "markdown",
   "metadata": {},
   "source": [
    "\n",
    "The argument `num_words=10000` means that we will only keep the top 10,000 most frequently occurring words in the training data. Rare words \n",
    "will be discarded. This allows us to work with vector data of manageable size.\n",
    "\n",
    "The variables `train_data` and `test_data` are lists of reviews, each review being a list of word indices (encoding a sequence of words). \n",
    "`train_labels` and `test_labels` are lists of 0s and 1s, where 0 stands for \"negative\" and 1 stands for \"positive\":"
   ]
  },
  {
   "cell_type": "code",
   "execution_count": 136,
   "metadata": {},
   "outputs": [
    {
     "data": {
      "text/plain": [
       "[1,\n",
       " 14,\n",
       " 22,\n",
       " 16,\n",
       " 43,\n",
       " 530,\n",
       " 973,\n",
       " 1622,\n",
       " 1385,\n",
       " 65,\n",
       " 458,\n",
       " 4468,\n",
       " 66,\n",
       " 3941,\n",
       " 4,\n",
       " 173,\n",
       " 36,\n",
       " 256,\n",
       " 5,\n",
       " 25,\n",
       " 100,\n",
       " 43,\n",
       " 838,\n",
       " 112,\n",
       " 50,\n",
       " 670,\n",
       " 2,\n",
       " 9,\n",
       " 35,\n",
       " 480,\n",
       " 284,\n",
       " 5,\n",
       " 150,\n",
       " 4,\n",
       " 172,\n",
       " 112,\n",
       " 167,\n",
       " 2,\n",
       " 336,\n",
       " 385,\n",
       " 39,\n",
       " 4,\n",
       " 172,\n",
       " 4536,\n",
       " 1111,\n",
       " 17,\n",
       " 546,\n",
       " 38,\n",
       " 13,\n",
       " 447,\n",
       " 4,\n",
       " 192,\n",
       " 50,\n",
       " 16,\n",
       " 6,\n",
       " 147,\n",
       " 2025,\n",
       " 19,\n",
       " 14,\n",
       " 22,\n",
       " 4,\n",
       " 1920,\n",
       " 4613,\n",
       " 469,\n",
       " 4,\n",
       " 22,\n",
       " 71,\n",
       " 87,\n",
       " 12,\n",
       " 16,\n",
       " 43,\n",
       " 530,\n",
       " 38,\n",
       " 76,\n",
       " 15,\n",
       " 13,\n",
       " 1247,\n",
       " 4,\n",
       " 22,\n",
       " 17,\n",
       " 515,\n",
       " 17,\n",
       " 12,\n",
       " 16,\n",
       " 626,\n",
       " 18,\n",
       " 2,\n",
       " 5,\n",
       " 62,\n",
       " 386,\n",
       " 12,\n",
       " 8,\n",
       " 316,\n",
       " 8,\n",
       " 106,\n",
       " 5,\n",
       " 4,\n",
       " 2223,\n",
       " 5244,\n",
       " 16,\n",
       " 480,\n",
       " 66,\n",
       " 3785,\n",
       " 33,\n",
       " 4,\n",
       " 130,\n",
       " 12,\n",
       " 16,\n",
       " 38,\n",
       " 619,\n",
       " 5,\n",
       " 25,\n",
       " 124,\n",
       " 51,\n",
       " 36,\n",
       " 135,\n",
       " 48,\n",
       " 25,\n",
       " 1415,\n",
       " 33,\n",
       " 6,\n",
       " 22,\n",
       " 12,\n",
       " 215,\n",
       " 28,\n",
       " 77,\n",
       " 52,\n",
       " 5,\n",
       " 14,\n",
       " 407,\n",
       " 16,\n",
       " 82,\n",
       " 2,\n",
       " 8,\n",
       " 4,\n",
       " 107,\n",
       " 117,\n",
       " 5952,\n",
       " 15,\n",
       " 256,\n",
       " 4,\n",
       " 2,\n",
       " 7,\n",
       " 3766,\n",
       " 5,\n",
       " 723,\n",
       " 36,\n",
       " 71,\n",
       " 43,\n",
       " 530,\n",
       " 476,\n",
       " 26,\n",
       " 400,\n",
       " 317,\n",
       " 46,\n",
       " 7,\n",
       " 4,\n",
       " 2,\n",
       " 1029,\n",
       " 13,\n",
       " 104,\n",
       " 88,\n",
       " 4,\n",
       " 381,\n",
       " 15,\n",
       " 297,\n",
       " 98,\n",
       " 32,\n",
       " 2071,\n",
       " 56,\n",
       " 26,\n",
       " 141,\n",
       " 6,\n",
       " 194,\n",
       " 7486,\n",
       " 18,\n",
       " 4,\n",
       " 226,\n",
       " 22,\n",
       " 21,\n",
       " 134,\n",
       " 476,\n",
       " 26,\n",
       " 480,\n",
       " 5,\n",
       " 144,\n",
       " 30,\n",
       " 5535,\n",
       " 18,\n",
       " 51,\n",
       " 36,\n",
       " 28,\n",
       " 224,\n",
       " 92,\n",
       " 25,\n",
       " 104,\n",
       " 4,\n",
       " 226,\n",
       " 65,\n",
       " 16,\n",
       " 38,\n",
       " 1334,\n",
       " 88,\n",
       " 12,\n",
       " 16,\n",
       " 283,\n",
       " 5,\n",
       " 16,\n",
       " 4472,\n",
       " 113,\n",
       " 103,\n",
       " 32,\n",
       " 15,\n",
       " 16,\n",
       " 5345,\n",
       " 19,\n",
       " 178,\n",
       " 32]"
      ]
     },
     "execution_count": 136,
     "metadata": {},
     "output_type": "execute_result"
    }
   ],
   "source": [
    "train_data[0]\n",
    "##len(train_data)\n",
    "##25000\n",
    "##print(len(train_data[1])) \n",
    "##189\n",
    "##print(len(train_data[0])) \n",
    "##218"
   ]
  },
  {
   "cell_type": "code",
   "execution_count": 5,
   "metadata": {},
   "outputs": [
    {
     "data": {
      "text/plain": [
       "1"
      ]
     },
     "execution_count": 5,
     "metadata": {},
     "output_type": "execute_result"
    }
   ],
   "source": [
    "train_labels[0]"
   ]
  },
  {
   "cell_type": "markdown",
   "metadata": {},
   "source": [
    "Since we restricted ourselves to the top 10,000 most frequent words, no word index will exceed 10,000:"
   ]
  },
  {
   "cell_type": "code",
   "execution_count": 6,
   "metadata": {},
   "outputs": [
    {
     "data": {
      "text/plain": [
       "9999"
      ]
     },
     "execution_count": 6,
     "metadata": {},
     "output_type": "execute_result"
    }
   ],
   "source": [
    "max([max(sequence) for sequence in train_data])"
   ]
  },
  {
   "cell_type": "markdown",
   "metadata": {},
   "source": [
    "For kicks, here's how you can quickly decode one of these reviews back to English words:"
   ]
  },
  {
   "cell_type": "code",
   "execution_count": 154,
   "metadata": {},
   "outputs": [],
   "source": [
    "# word_index is a dictionary mapping words to an integer index\n",
    "word_index = imdb.get_word_index()\n",
    "# We reverse it, mapping integer indices to words\n",
    "reverse_word_index = dict([(value, key) for (key, value) in word_index.items()])\n",
    "# We decode the review; note that our indices were offset by 3\n",
    "# because 0, 1 and 2 are reserved indices for \"padding\", \"start of sequence\", and \"unknown\".\n",
    "decoded_review = ' '.join([reverse_word_index.get(i - 3, '?') for i in train_data[0]])"
   ]
  },
  {
   "cell_type": "code",
   "execution_count": 186,
   "metadata": {},
   "outputs": [
    {
     "name": "stdout",
     "output_type": "stream",
     "text": [
      "word_index.get(\"this\") =>  11\n",
      " 11 =>  this\n",
      "1 *\n",
      "14 this\n",
      "22 film\n",
      "16 was\n",
      "43 just\n",
      "530 brilliant\n",
      "973 casting\n",
      "1622 location\n",
      "1385 scenery\n",
      "65 story\n",
      "458 direction\n",
      "4468 everyone's\n",
      "66 really\n",
      "3941 suited\n",
      "4 the\n",
      "173 part\n",
      "36 they\n",
      "256 played\n",
      "5 and\n",
      "25 you\n",
      "100 could\n",
      "43 just\n",
      "838 imagine\n",
      "112 being\n",
      "50 there\n",
      "670 robert\n",
      "2 *\n",
      "9 is\n",
      "35 an\n",
      "480 amazing\n",
      "284 actor\n",
      "5 and\n",
      "150 now\n",
      "4 the\n",
      "172 same\n",
      "112 being\n",
      "167 director\n",
      "2 *\n",
      "336 father\n",
      "385 came\n",
      "39 from\n",
      "4 the\n",
      "172 same\n",
      "4536 scottish\n",
      "1111 island\n",
      "17 as\n",
      "546 myself\n",
      "38 so\n",
      "13 i\n",
      "447 loved\n",
      "4 the\n",
      "192 fact\n",
      "50 there\n",
      "16 was\n",
      "6 a\n",
      "147 real\n",
      "2025 connection\n",
      "19 with\n",
      "14 this\n",
      "22 film\n",
      "4 the\n",
      "1920 witty\n",
      "4613 remarks\n",
      "469 throughout\n",
      "4 the\n",
      "22 film\n",
      "71 were\n",
      "87 great\n",
      "12 it\n",
      "16 was\n",
      "43 just\n",
      "530 brilliant\n",
      "38 so\n",
      "76 much\n",
      "15 that\n",
      "13 i\n",
      "1247 bought\n",
      "4 the\n",
      "22 film\n",
      "17 as\n",
      "515 soon\n",
      "17 as\n",
      "12 it\n",
      "16 was\n",
      "626 released\n",
      "18 for\n",
      "2 *\n",
      "5 and\n",
      "62 would\n",
      "386 recommend\n",
      "12 it\n",
      "8 to\n",
      "316 everyone\n",
      "8 to\n",
      "106 watch\n",
      "5 and\n",
      "4 the\n",
      "2223 fly\n",
      "5244 fishing\n",
      "16 was\n",
      "480 amazing\n",
      "66 really\n",
      "3785 cried\n",
      "33 at\n",
      "4 the\n",
      "130 end\n",
      "12 it\n",
      "16 was\n",
      "38 so\n",
      "619 sad\n",
      "5 and\n",
      "25 you\n",
      "124 know\n",
      "51 what\n",
      "36 they\n",
      "135 say\n",
      "48 if\n",
      "25 you\n",
      "1415 cry\n",
      "33 at\n",
      "6 a\n",
      "22 film\n",
      "12 it\n",
      "215 must\n",
      "28 have\n",
      "77 been\n",
      "52 good\n",
      "5 and\n",
      "14 this\n",
      "407 definitely\n",
      "16 was\n",
      "82 also\n",
      "2 *\n",
      "8 to\n",
      "4 the\n",
      "107 two\n",
      "117 little\n",
      "5952 boy's\n",
      "15 that\n",
      "256 played\n",
      "4 the\n",
      "2 *\n",
      "7 of\n",
      "3766 norman\n",
      "5 and\n",
      "723 paul\n",
      "36 they\n",
      "71 were\n",
      "43 just\n",
      "530 brilliant\n",
      "476 children\n",
      "26 are\n",
      "400 often\n",
      "317 left\n",
      "46 out\n",
      "7 of\n",
      "4 the\n",
      "2 *\n",
      "1029 list\n",
      "13 i\n",
      "104 think\n",
      "88 because\n",
      "4 the\n",
      "381 stars\n",
      "15 that\n",
      "297 play\n",
      "98 them\n",
      "32 all\n",
      "2071 grown\n",
      "56 up\n",
      "26 are\n",
      "141 such\n",
      "6 a\n",
      "194 big\n",
      "7486 profile\n",
      "18 for\n",
      "4 the\n",
      "226 whole\n",
      "22 film\n",
      "21 but\n",
      "134 these\n",
      "476 children\n",
      "26 are\n",
      "480 amazing\n",
      "5 and\n",
      "144 should\n",
      "30 be\n",
      "5535 praised\n",
      "18 for\n",
      "51 what\n",
      "36 they\n",
      "28 have\n",
      "224 done\n",
      "92 don't\n",
      "25 you\n",
      "104 think\n",
      "4 the\n",
      "226 whole\n",
      "65 story\n",
      "16 was\n",
      "38 so\n",
      "1334 lovely\n",
      "88 because\n",
      "12 it\n",
      "16 was\n",
      "283 true\n",
      "5 and\n",
      "16 was\n",
      "4472 someone's\n",
      "113 life\n",
      "103 after\n",
      "32 all\n",
      "15 that\n",
      "16 was\n",
      "5345 shared\n",
      "19 with\n",
      "178 us\n",
      "32 all\n"
     ]
    }
   ],
   "source": [
    "## XP. to fully understand ...\n",
    "\n",
    "# print(word_index) ## {'fawn': 34701, 'tsukino': 52006, 'nunnery': 52007, 'sonja': 16816, ...\n",
    "# print('word_index.get(\"this\") => ', word_index.get('this')) ## 'this' is mapped to 11 \n",
    "\n",
    "# print(reverse_word_index ) ## {34701: 'fawn', 52006: 'tsukino', 52007: 'nunnery', 16816: 'sonja', ...\n",
    "# print('reverse_word_index.get(16) = ', reverse_word_index.get(16)) # with\n",
    "\n",
    "# reverse_word_index.get(11) ## 'this'\n",
    "# print(' 11 => ', reverse_word_index.get(11)) ##14 - 3 = 11\n",
    "\n",
    "# print (train_data[0]) # integers [1, 14, 22, 16, 43, 530, 973, 1622, ...\n",
    "for i in train_data[0]:\n",
    "    print(i, reverse_word_index.get(i-3, '*'))  ##replace not found with *\n"
   ]
  },
  {
   "cell_type": "code",
   "execution_count": 9,
   "metadata": {},
   "outputs": [
    {
     "data": {
      "text/plain": [
       "\"? this film was just brilliant casting location scenery story direction everyone's really suited the part they played and you could just imagine being there robert ? is an amazing actor and now the same being director ? father came from the same scottish island as myself so i loved the fact there was a real connection with this film the witty remarks throughout the film were great it was just brilliant so much that i bought the film as soon as it was released for ? and would recommend it to everyone to watch and the fly fishing was amazing really cried at the end it was so sad and you know what they say if you cry at a film it must have been good and this definitely was also ? to the two little boy's that played the ? of norman and paul they were just brilliant children are often left out of the ? list i think because the stars that play them all grown up are such a big profile for the whole film but these children are amazing and should be praised for what they have done don't you think the whole story was so lovely because it was true and was someone's life after all that was shared with us all\""
      ]
     },
     "execution_count": 9,
     "metadata": {},
     "output_type": "execute_result"
    }
   ],
   "source": [
    "decoded_review"
   ]
  },
  {
   "cell_type": "markdown",
   "metadata": {},
   "source": [
    "## Preparing the data\n",
    "\n",
    "\n",
    "We cannot feed lists of integers into a neural network. We have to turn our lists into tensors. There are two ways we could do that:\n",
    "\n",
    "* We could pad our lists so that they all have the same length, and turn them into an integer tensor of shape `(samples, word_indices)`, \n",
    "then use as first layer in our network a layer capable of handling such integer tensors (the `Embedding` layer, which we will cover in \n",
    "detail later in the book).\n",
    "* We could one-hot-encode our lists to turn them into vectors of 0s and 1s. Concretely, this would mean for instance turning the sequence \n",
    "`[3, 5]` into a 10,000-dimensional vector that would be all-zeros except for indices 3 and 5, which would be ones. Then we could use as \n",
    "first layer in our network a `Dense` layer, capable of handling floating point vector data.\n",
    "\n",
    "We will go with the latter solution. Let's vectorize our data, which we will do manually for maximum clarity:"
   ]
  },
  {
   "cell_type": "code",
   "execution_count": 10,
   "metadata": {},
   "outputs": [],
   "source": [
    "import numpy as np\n",
    "\n",
    "def vectorize_sequences(sequences, dimension=10000):\n",
    "    # Create an all-zero matrix of shape (len(sequences), dimension)\n",
    "    results = np.zeros((len(sequences), dimension))\n",
    "    for i, sequence in enumerate(sequences):\n",
    "        results[i, sequence] = 1.  # set specific indices of results[i] to 1s\n",
    "    return results\n",
    "\n",
    "# Our vectorized training data\n",
    "x_train = vectorize_sequences(train_data)\n",
    "# Our vectorized test data\n",
    "x_test = vectorize_sequences(test_data)"
   ]
  },
  {
   "cell_type": "markdown",
   "metadata": {},
   "source": [
    "Here's what our samples look like now:"
   ]
  },
  {
   "cell_type": "code",
   "execution_count": 11,
   "metadata": {},
   "outputs": [
    {
     "data": {
      "text/plain": [
       "array([0., 1., 1., ..., 0., 0., 0.])"
      ]
     },
     "execution_count": 11,
     "metadata": {},
     "output_type": "execute_result"
    }
   ],
   "source": [
    "x_train[0]"
   ]
  },
  {
   "cell_type": "raw",
   "metadata": {},
   "source": [
    "We should also vectorize our labels, which is straightforward:"
   ]
  },
  {
   "cell_type": "code",
   "execution_count": 12,
   "metadata": {},
   "outputs": [],
   "source": [
    "# Our vectorized labels\n",
    "y_train = np.asarray(train_labels).astype('float32')\n",
    "y_test = np.asarray(test_labels).astype('float32')"
   ]
  },
  {
   "cell_type": "markdown",
   "metadata": {},
   "source": [
    "Now our data is ready to be fed into a neural network."
   ]
  },
  {
   "cell_type": "markdown",
   "metadata": {},
   "source": [
    "## Building our network\n",
    "\n",
    "\n",
    "Our input data is simply vectors, and our labels are scalars (1s and 0s): this is the easiest setup you will ever encounter. A type of \n",
    "network that performs well on such a problem would be a simple stack of fully-connected (`Dense`) layers with `relu` activations: `Dense(16, \n",
    "activation='relu')`\n",
    "\n",
    "The argument being passed to each `Dense` layer (16) is the number of \"hidden units\" of the layer. What's a hidden unit? It's a dimension \n",
    "in the representation space of the layer. You may remember from the previous chapter that each such `Dense` layer with a `relu` activation implements \n",
    "the following chain of tensor operations:\n",
    "\n",
    "`output = relu(dot(W, input) + b)`\n",
    "\n",
    "Having 16 hidden units means that the weight matrix `W` will have shape `(input_dimension, 16)`, i.e. the dot product with `W` will project the \n",
    "input data onto a 16-dimensional representation space (and then we would add the bias vector `b` and apply the `relu` operation). You can \n",
    "intuitively understand the dimensionality of your representation space as \"how much freedom you are allowing the network to have when \n",
    "learning internal representations\". Having more hidden units (a higher-dimensional representation space) allows your network to learn more \n",
    "complex representations, but it makes your network more computationally expensive and may lead to learning unwanted patterns (patterns that \n",
    "will improve performance on the training data but not on the test data).\n",
    "\n",
    "There are two key architecture decisions to be made about such stack of dense layers:\n",
    "\n",
    "* How many layers to use.\n",
    "* How many \"hidden units\" to chose for each layer.\n",
    "\n",
    "In the next chapter, you will learn formal principles to guide you in making these choices. \n",
    "For the time being, you will have to trust us with the following architecture choice: \n",
    "two intermediate layers with 16 hidden units each, \n",
    "and a third layer which will output the scalar prediction regarding the sentiment of the current review. \n",
    "The intermediate layers will use `relu` as their \"activation function\", \n",
    "and the final layer will use a sigmoid activation so as to output a probability \n",
    "(a score between 0 and 1, indicating how likely the sample is to have the target \"1\", i.e. how likely the review is to be positive). \n",
    "A `relu` (rectified linear unit) is a function meant to zero-out negative values, \n",
    "while a sigmoid \"squashes\" arbitrary values into the `[0, 1]` interval, thus outputting something that can be interpreted as a probability."
   ]
  },
  {
   "cell_type": "markdown",
   "metadata": {},
   "source": [
    "Here's what our network looks like:\n",
    "\n",
    "![3-layer network](https://s3.amazonaws.com/book.keras.io/img/ch3/3_layer_network.png)"
   ]
  },
  {
   "cell_type": "markdown",
   "metadata": {},
   "source": [
    "And here's the Keras implementation, very similar to the MNIST example you saw previously:"
   ]
  },
  {
   "cell_type": "code",
   "execution_count": 13,
   "metadata": {},
   "outputs": [],
   "source": [
    "from keras import models\n",
    "from keras import layers\n",
    "\n",
    "model = models.Sequential()\n",
    "model.add(layers.Dense(16, activation='relu', input_shape=(10000,)))\n",
    "model.add(layers.Dense(16, activation='relu'))\n",
    "##model.add(layers.Dense(32, activation='relu'))##XP\n",
    "model.add(layers.Dense(1, activation='sigmoid'))"
   ]
  },
  {
   "cell_type": "markdown",
   "metadata": {},
   "source": [
    "\n",
    "Lastly, we need to pick a loss function and an optimizer. Since we are facing a binary classification problem and the output of our network \n",
    "is a probability (we end our network with a single-unit layer with a sigmoid activation), is it best to use the `binary_crossentropy` loss. \n",
    "It isn't the only viable choice: you could use, for instance, `mean_squared_error`. But crossentropy is usually the best choice when you \n",
    "are dealing with models that output probabilities. Crossentropy is a quantity from the field of Information Theory, that measures the \"distance\" \n",
    "between probability distributions, or in our case, between the ground-truth distribution and our predictions.\n",
    "\n",
    "Here's the step where we configure our model with the `rmsprop` optimizer and the `binary_crossentropy` loss function. Note that we will \n",
    "also monitor accuracy during training."
   ]
  },
  {
   "cell_type": "code",
   "execution_count": 14,
   "metadata": {},
   "outputs": [],
   "source": [
    "model.compile(optimizer='rmsprop',\n",
    "              loss='binary_crossentropy',\n",
    "              metrics=['accuracy'])"
   ]
  },
  {
   "cell_type": "markdown",
   "metadata": {},
   "source": [
    "We are passing our optimizer, loss function and metrics as strings, which is possible because `rmsprop`, `binary_crossentropy` and \n",
    "`accuracy` are packaged as part of Keras. Sometimes you may want to configure the parameters of your optimizer, or pass a custom loss \n",
    "function or metric function. This former can be done by passing an optimizer class instance as the `optimizer` argument:"
   ]
  },
  {
   "cell_type": "code",
   "execution_count": 15,
   "metadata": {},
   "outputs": [],
   "source": [
    "from keras import optimizers\n",
    "\n",
    "model.compile(optimizer=optimizers.RMSprop(lr=0.001),\n",
    "              loss='binary_crossentropy',\n",
    "              metrics=['accuracy'])"
   ]
  },
  {
   "cell_type": "markdown",
   "metadata": {},
   "source": [
    "The latter can be done by passing function objects as the `loss` or `metrics` arguments:"
   ]
  },
  {
   "cell_type": "code",
   "execution_count": 16,
   "metadata": {},
   "outputs": [],
   "source": [
    "from keras import losses\n",
    "from keras import metrics\n",
    "\n",
    "model.compile(optimizer=optimizers.RMSprop(lr=0.001),\n",
    "              loss=losses.binary_crossentropy,\n",
    "              metrics=[metrics.binary_accuracy])"
   ]
  },
  {
   "cell_type": "markdown",
   "metadata": {},
   "source": [
    "## Validating our approach\n",
    "\n",
    "In order to monitor during training the accuracy of the model on data that it has never seen before, we will create a \"validation set\" by \n",
    "setting apart 10,000 samples from the original training data:"
   ]
  },
  {
   "cell_type": "code",
   "execution_count": 17,
   "metadata": {},
   "outputs": [],
   "source": [
    "## First 10K. The basic slice syntax is i:j:k where i is the starting index, j is the stopping index, and k is the step\n",
    "## Remaing. Starting from 10K. \n",
    "# x_val = x_train[:10000] \n",
    "# partial_x_train = x_train[10000:] \n",
    "\n",
    "# y_val = y_train[:10000]\n",
    "# partial_y_train = y_train[10000:]\n",
    "\n",
    "x_val = x_train[15000:] \n",
    "partial_x_train = x_train[:15000] \n",
    "\n",
    "y_val = y_train[15000:]\n",
    "partial_y_train = y_train[:15000]"
   ]
  },
  {
   "cell_type": "markdown",
   "metadata": {
    "collapsed": true
   },
   "source": [
    "We will now train our model for 20 epochs (20 iterations over all samples in the `x_train` and `y_train` tensors), in mini-batches of 512 \n",
    "samples. At this same time we will monitor loss and accuracy on the 10,000 samples that we set apart. This is done by passing the \n",
    "validation data as the `validation_data` argument:"
   ]
  },
  {
   "cell_type": "code",
   "execution_count": 18,
   "metadata": {},
   "outputs": [
    {
     "name": "stdout",
     "output_type": "stream",
     "text": [
      "Train on 15000 samples, validate on 10000 samples\n",
      "Epoch 1/20\n",
      "15000/15000 [==============================] - 2s 138us/step - loss: 0.5112 - binary_accuracy: 0.7912 - val_loss: 0.3723 - val_binary_accuracy: 0.8762\n",
      "Epoch 2/20\n",
      "15000/15000 [==============================] - 1s 70us/step - loss: 0.2963 - binary_accuracy: 0.9027 - val_loss: 0.3039 - val_binary_accuracy: 0.8854\n",
      "Epoch 3/20\n",
      "15000/15000 [==============================] - 1s 69us/step - loss: 0.2152 - binary_accuracy: 0.9286 - val_loss: 0.2925 - val_binary_accuracy: 0.8824\n",
      "Epoch 4/20\n",
      "15000/15000 [==============================] - 1s 68us/step - loss: 0.1727 - binary_accuracy: 0.9425 - val_loss: 0.2754 - val_binary_accuracy: 0.8918\n",
      "Epoch 5/20\n",
      "15000/15000 [==============================] - 1s 68us/step - loss: 0.1409 - binary_accuracy: 0.9547 - val_loss: 0.2895 - val_binary_accuracy: 0.8869\n",
      "Epoch 6/20\n",
      "15000/15000 [==============================] - 1s 68us/step - loss: 0.1163 - binary_accuracy: 0.9638 - val_loss: 0.3092 - val_binary_accuracy: 0.8840\n",
      "Epoch 7/20\n",
      "15000/15000 [==============================] - 1s 69us/step - loss: 0.0976 - binary_accuracy: 0.9703 - val_loss: 0.3205 - val_binary_accuracy: 0.8834\n",
      "Epoch 8/20\n",
      "15000/15000 [==============================] - 1s 69us/step - loss: 0.0826 - binary_accuracy: 0.9771 - val_loss: 0.4035 - val_binary_accuracy: 0.8646\n",
      "Epoch 9/20\n",
      "15000/15000 [==============================] - 1s 69us/step - loss: 0.0670 - binary_accuracy: 0.9824 - val_loss: 0.3629 - val_binary_accuracy: 0.8809\n",
      "Epoch 10/20\n",
      "15000/15000 [==============================] - 1s 69us/step - loss: 0.0586 - binary_accuracy: 0.9839 - val_loss: 0.3924 - val_binary_accuracy: 0.8801\n",
      "Epoch 11/20\n",
      "15000/15000 [==============================] - 1s 69us/step - loss: 0.0483 - binary_accuracy: 0.9869 - val_loss: 0.4170 - val_binary_accuracy: 0.8764\n",
      "Epoch 12/20\n",
      "15000/15000 [==============================] - 1s 69us/step - loss: 0.0366 - binary_accuracy: 0.9916 - val_loss: 0.6000 - val_binary_accuracy: 0.8436\n",
      "Epoch 13/20\n",
      "15000/15000 [==============================] - 1s 71us/step - loss: 0.0315 - binary_accuracy: 0.9927 - val_loss: 0.4874 - val_binary_accuracy: 0.8722\n",
      "Epoch 14/20\n",
      "15000/15000 [==============================] - 1s 75us/step - loss: 0.0290 - binary_accuracy: 0.9930 - val_loss: 0.5032 - val_binary_accuracy: 0.8714\n",
      "Epoch 15/20\n",
      "15000/15000 [==============================] - 1s 68us/step - loss: 0.0222 - binary_accuracy: 0.9952 - val_loss: 0.5385 - val_binary_accuracy: 0.8701\n",
      "Epoch 16/20\n",
      "15000/15000 [==============================] - 1s 67us/step - loss: 0.0170 - binary_accuracy: 0.9973 - val_loss: 0.5923 - val_binary_accuracy: 0.8667\n",
      "Epoch 17/20\n",
      "15000/15000 [==============================] - 1s 69us/step - loss: 0.0145 - binary_accuracy: 0.9975 - val_loss: 0.6041 - val_binary_accuracy: 0.8678\n",
      "Epoch 18/20\n",
      "15000/15000 [==============================] - 1s 69us/step - loss: 0.0105 - binary_accuracy: 0.9985 - val_loss: 0.6557 - val_binary_accuracy: 0.8633\n",
      "Epoch 19/20\n",
      "15000/15000 [==============================] - 1s 68us/step - loss: 0.0101 - binary_accuracy: 0.9987 - val_loss: 0.6875 - val_binary_accuracy: 0.8633\n",
      "Epoch 20/20\n",
      "15000/15000 [==============================] - 1s 68us/step - loss: 0.0059 - binary_accuracy: 0.9997 - val_loss: 0.7171 - val_binary_accuracy: 0.8613\n"
     ]
    }
   ],
   "source": [
    "# model.reset_states() ##XP\n",
    "history = model.fit(partial_x_train,\n",
    "                    partial_y_train,\n",
    "                    epochs=20, ## 20\n",
    "                    batch_size=512,\n",
    "                    validation_data=(x_val, y_val))"
   ]
  },
  {
   "cell_type": "markdown",
   "metadata": {},
   "source": [
    "On CPU, this will take less than two seconds per epoch -- training is over in 20 seconds. At the end of every epoch, there is a slight pause \n",
    "as the model computes its loss and accuracy on the 10,000 samples of the validation data.\n",
    "\n",
    "Note that the call to `model.fit()` returns a `History` object. This object has a member `history`, which is a dictionary containing data \n",
    "about everything that happened during training. Let's take a look at it:"
   ]
  },
  {
   "cell_type": "code",
   "execution_count": 19,
   "metadata": {},
   "outputs": [
    {
     "data": {
      "text/plain": [
       "dict_keys(['val_loss', 'val_binary_accuracy', 'loss', 'binary_accuracy'])"
      ]
     },
     "execution_count": 19,
     "metadata": {},
     "output_type": "execute_result"
    }
   ],
   "source": [
    "history_dict = history.history\n",
    "history_dict.keys()"
   ]
  },
  {
   "cell_type": "markdown",
   "metadata": {},
   "source": [
    "It contains 4 entries: one per metric that was being monitored, during training and during validation. Let's use Matplotlib to plot the \n",
    "training and validation loss side by side, as well as the training and validation accuracy:"
   ]
  },
  {
   "cell_type": "code",
   "execution_count": 20,
   "metadata": {},
   "outputs": [
    {
     "data": {
      "text/plain": [
       "<Figure size 640x480 with 1 Axes>"
      ]
     },
     "metadata": {},
     "output_type": "display_data"
    }
   ],
   "source": [
    "import matplotlib.pyplot as plt\n",
    "\n",
    "acc = history.history['binary_accuracy']\n",
    "# acc = history.history['acc']\n",
    "\n",
    "val_acc = history.history['val_binary_accuracy']\n",
    "# val_acc = history.history['val_acc']\n",
    "\n",
    "loss = history.history['loss']\n",
    "val_loss = history.history['val_loss']\n",
    "\n",
    "epochs = range(1, len(acc) + 1)\n",
    "\n",
    "# \"bo\" is for \"blue dot\"\n",
    "plt.plot(epochs, loss, 'bo', label='Training loss')\n",
    "# b is for \"solid blue line\"\n",
    "plt.plot(epochs, val_loss, 'b', label='Validation loss')\n",
    "plt.title('Training and validation loss')\n",
    "plt.xlabel('Epochs')\n",
    "plt.ylabel('Loss')\n",
    "plt.legend()\n",
    "\n",
    "plt.show()"
   ]
  },
  {
   "cell_type": "code",
   "execution_count": 21,
   "metadata": {},
   "outputs": [
    {
     "data": {
      "image/png": "[encoded data removed]",
      "text/plain": [
       "<Figure size 432x288 with 1 Axes>"
      ]
     },
     "metadata": {
      "needs_background": "light"
     },
     "output_type": "display_data"
    }
   ],
   "source": [
    "plt.clf()   # clear figure\n",
    "acc_values = history_dict['binary_accuracy']\n",
    "val_acc_values = history_dict['val_binary_accuracy']\n",
    "\n",
    "plt.plot(epochs, acc, 'bo', label='Training acc')\n",
    "plt.plot(epochs, val_acc, 'b', label='Validation acc')\n",
    "plt.title('Training and validation accuracy')\n",
    "plt.xlabel('Epochs')\n",
    "plt.ylabel('Loss')\n",
    "plt.legend()\n",
    "\n",
    "plt.show()"
   ]
  },
  {
   "cell_type": "markdown",
   "metadata": {},
   "source": [
    "\n",
    "The dots are the training loss and accuracy, while the solid lines are the validation loss and accuracy. Note that your own results may vary \n",
    "slightly due to a different random initialization of your network.\n",
    "\n",
    "As you can see, the training loss decreases with every epoch and the training accuracy increases with every epoch. That's what you would \n",
    "expect when running gradient descent optimization -- the quantity you are trying to minimize should get lower with every iteration. But that \n",
    "isn't the case for the validation loss and accuracy: they seem to peak at the fourth epoch. This is an example of what we were warning \n",
    "against earlier: a model that performs better on the training data isn't necessarily a model that will do better on data it has never seen \n",
    "before. In precise terms, what you are seeing is \"overfitting\": after the second epoch, we are over-optimizing on the training data, and we \n",
    "ended up learning representations that are specific to the training data and do not generalize to data outside of the training set.\n",
    "\n",
    "In this case, to prevent overfitting, we could simply stop training after three epochs. In general, there is a range of techniques you can \n",
    "leverage to mitigate overfitting, which we will cover in the next chapter.\n",
    "\n",
    "Let's train a new network from scratch for four epochs, then evaluate it on our test data:"
   ]
  },
  {
   "cell_type": "code",
   "execution_count": 22,
   "metadata": {},
   "outputs": [
    {
     "name": "stdout",
     "output_type": "stream",
     "text": [
      "Epoch 1/4\n",
      "25000/25000 [==============================] - 2s 69us/step - loss: 0.4751 - acc: 0.8211\n",
      "Epoch 2/4\n",
      "25000/25000 [==============================] - 1s 45us/step - loss: 0.2656 - acc: 0.9098\n",
      "Epoch 3/4\n",
      "25000/25000 [==============================] - 1s 46us/step - loss: 0.1984 - acc: 0.9299\n",
      "Epoch 4/4\n",
      "25000/25000 [==============================] - 1s 46us/step - loss: 0.1678 - acc: 0.9404\n",
      "25000/25000 [==============================] - 1s 55us/step\n"
     ]
    }
   ],
   "source": [
    "model = models.Sequential()\n",
    "model.add(layers.Dense(16, activation='relu', input_shape=(10000,)))\n",
    "model.add(layers.Dense(16, activation='relu'))\n",
    "model.add(layers.Dense(1, activation='sigmoid'))\n",
    "\n",
    "model.compile(optimizer='rmsprop',\n",
    "              loss='binary_crossentropy',\n",
    "              metrics=['accuracy'])\n",
    "\n",
    "model.fit(x_train, y_train, epochs=4, batch_size=512)\n",
    "results = model.evaluate(x_test, y_test)"
   ]
  },
  {
   "cell_type": "code",
   "execution_count": 33,
   "metadata": {},
   "outputs": [
    {
     "data": {
      "text/plain": [
       "[0.32270636788368223, 0.87332]"
      ]
     },
     "execution_count": 33,
     "metadata": {},
     "output_type": "execute_result"
    }
   ],
   "source": [
    "results"
   ]
  },
  {
   "cell_type": "markdown",
   "metadata": {},
   "source": [
    "Our fairly naive approach achieves an accuracy of 88%. With state-of-the-art approaches, one should be able to get close to 95%."
   ]
  },
  {
   "cell_type": "markdown",
   "metadata": {},
   "source": [
    "## Using a trained network to generate predictions on new data\n",
    "\n",
    "After having trained a network, you will want to use it in a practical setting. You can generate the likelihood of reviews being positive \n",
    "by using the `predict` method:"
   ]
  },
  {
   "cell_type": "code",
   "execution_count": 65,
   "metadata": {
    "scrolled": true
   },
   "outputs": [
    {
     "name": "stdout",
     "output_type": "stream",
     "text": [
      "[[0.13888198]\n",
      " [0.9996985 ]\n",
      " [0.3121842 ]\n",
      " ...\n",
      " [0.07258095]\n",
      " [0.04286512]\n",
      " [0.46984038]]\n",
      "10005\n",
      "[0.00648679 0.0040284  0.00014904 ... 0.0005933  0.07258095 0.04286512]\n",
      "6881\n",
      "[0.9996985  0.92581207 0.9980478  ... 0.99466467 0.96655464 0.9986902 ]\n"
     ]
    }
   ],
   "source": [
    "# model.predict(x_test)\n",
    "\n",
    "##XP\n",
    "predictions = model.predict(x_test) \n",
    "print(predictions)\n",
    "conf_predictions = predictions[predictions<0.1]\n",
    "print(conf_predictions.size)\n",
    "print(conf_predictions)\n",
    "conf_predictions = predictions[predictions>0.9]\n",
    "print(conf_predictions.size)\n",
    "print(conf_predictions)\n"
   ]
  },
  {
   "cell_type": "markdown",
   "metadata": {},
   "source": [
    "As you can see, the network is very confident for some samples (0.99 or more, or 0.01 or less) but less confident for others (0.6, 0.4). \n"
   ]
  },
  {
   "cell_type": "markdown",
   "metadata": {},
   "source": [
    "## Further experiments\n",
    "\n",
    "\n",
    "* We were using 2 hidden layers. Try to use 1 or 3 hidden layers and see how it affects validation and test accuracy.\n",
    "* Try to use layers with more hidden units or less hidden units: 32 units, 64 units...\n",
    "* Try to use the `mse` loss function instead of `binary_crossentropy`.\n",
    "* Try to use the `tanh` activation (an activation that was popular in the early days of neural networks) instead of `relu`.\n",
    "\n",
    "These experiments will help convince you that the architecture choices we have made are all fairly reasonable, although they can still be \n",
    "improved!"
   ]
  },
  {
   "cell_type": "markdown",
   "metadata": {},
   "source": [
    "## Conclusions\n",
    "\n",
    "\n",
    "Here's what you should take away from this example:\n",
    "\n",
    "* There's usually quite a bit of preprocessing you need to do on your raw data in order to be able to feed it -- as tensors -- into a neural \n",
    "network. In the case of sequences of words, they can be encoded as binary vectors -- but there are other encoding options too.\n",
    "* Stacks of `Dense` layers with `relu` activations can solve a wide range of problems (including sentiment classification), and you will \n",
    "likely use them frequently.\n",
    "* In a binary classification problem (two output classes), your network should end with a `Dense` layer with 1 unit and a `sigmoid` activation, \n",
    "i.e. the output of your network should be a scalar between 0 and 1, encoding a probability.\n",
    "* With such a scalar sigmoid output, on a binary classification problem, the loss function you should use is `binary_crossentropy`.\n",
    "* The `rmsprop` optimizer is generally a good enough choice of optimizer, whatever your problem. That's one less thing for you to worry \n",
    "about.\n",
    "* As they get better on their training data, neural networks eventually start _overfitting_ and end up obtaining increasingly worse results on data \n",
    "never-seen-before. Make sure to always monitor performance on data that is outside of the training set.\n"
   ]
  },
  {
   "cell_type": "markdown",
   "metadata": {},
   "source": [
    "## XP Practice"
   ]
  },
  {
   "cell_type": "code",
   "execution_count": 135,
   "metadata": {},
   "outputs": [
    {
     "name": "stdout",
     "output_type": "stream",
     "text": [
      "3\n",
      "max =  10\n",
      "[[0. 0. 0. 0. 0. 0. 0. 0. 0. 0. 0.]\n",
      " [0. 0. 0. 0. 0. 0. 0. 0. 0. 0. 0.]\n",
      " [0. 0. 0. 0. 0. 0. 0. 0. 0. 0. 0.]]\n",
      "[[0. 1. 1. 1. 0. 0. 0. 0. 0. 0. 0.]\n",
      " [0. 0. 0. 0. 1. 1. 1. 0. 0. 0. 0.]\n",
      " [0. 0. 0. 0. 0. 0. 0. 1. 1. 1. 1.]]\n",
      "td =  [[1, 14, 22, 16, 43, 530, 973, 1622, 1385, 65, 458, 4468, 66, 3941, 4, 173, 36, 256, 5, 25, 100, 43, 838, 112, 50, 670, 2, 9, 35, 480, 284, 5, 150, 4, 172, 112, 167, 2, 336, 385, 39, 4, 172, 4536, 1111, 17, 546, 38, 13, 447, 4, 192, 50, 16, 6, 147, 2025, 19, 14, 22, 4, 1920, 4613, 469, 4, 22, 71, 87, 12, 16, 43, 530, 38, 76, 15, 13, 1247, 4, 22, 17, 515, 17, 12, 16, 626, 18, 2, 5, 62, 386, 12, 8, 316, 8, 106, 5, 4, 2223, 5244, 16, 480, 66, 3785, 33, 4, 130, 12, 16, 38, 619, 5, 25, 124, 51, 36, 135, 48, 25, 1415, 33, 6, 22, 12, 215, 28, 77, 52, 5, 14, 407, 16, 82, 2, 8, 4, 107, 117, 5952, 15, 256, 4, 2, 7, 3766, 5, 723, 36, 71, 43, 530, 476, 26, 400, 317, 46, 7, 4, 2, 1029, 13, 104, 88, 4, 381, 15, 297, 98, 32, 2071, 56, 26, 141, 6, 194, 7486, 18, 4, 226, 22, 21, 134, 476, 26, 480, 5, 144, 30, 5535, 18, 51, 36, 28, 224, 92, 25, 104, 4, 226, 65, 16, 38, 1334, 88, 12, 16, 283, 5, 16, 4472, 113, 103, 32, 15, 16, 5345, 19, 178, 32]]\n",
      "vtd =  [[0. 0. 0. ... 0. 0. 0.]]\n",
      "vtd =  [[0. 1. 1. ... 0. 0. 0.]]\n",
      "len(train_data) =  25000\n"
     ]
    }
   ],
   "source": [
    "##XP practice\n",
    "import numpy as np\n",
    "data = np.array([[1,2,3], [4,5,6], [7,8,9,10]])\n",
    "print(len(data))\n",
    "\n",
    "MAXV = max([max(x) for x in data])\n",
    "print ('max = ', MAXV)\n",
    "\n",
    "vdata = np.zeros((len(data), MAXV+1))\n",
    "print(vdata)\n",
    "for index, x in enumerate(data): ## You will see index start at 3 is for real data\n",
    "    vdata[index, x] = 1.0\n",
    "print(vdata)\n",
    "    \n",
    "td = [train_data[0]] ## note to be 2d\n",
    "print('td = ', td)\n",
    "vtd = np.zeros((1, 10000))\n",
    "print('vtd = ', vtd)\n",
    "\n",
    "for index, x in enumerate(td):\n",
    "    vtd[index, x] = 1.\n",
    "print('vtd = ', vtd)\n",
    "print('len(train_data) = ', len(train_data))\n"
   ]
  },
  {
   "cell_type": "code",
   "execution_count": 197,
   "metadata": {},
   "outputs": [
    {
     "data": {
      "text/plain": [
       "array([[0],\n",
       "       [1],\n",
       "       [1],\n",
       "       ...,\n",
       "       [0],\n",
       "       [1],\n",
       "       [1]])"
      ]
     },
     "execution_count": 197,
     "metadata": {},
     "output_type": "execute_result"
    }
   ],
   "source": [
    "## XP P2\n",
    "## Let's try a randomly generated dataset ... START\n",
    "import numpy as np\n",
    "SAMPLEX = 50000\n",
    "SAMPLEY = 10000\n",
    "bigdata_x = np.random.random((SAMPLEX, SAMPLEY))\n",
    "bigdata_y = np.random.random((SAMPLEX,1))\n",
    "bigdata_y = bigdata_y>0.5\n",
    "bigdata_y = bigdata_y.astype(int)\n",
    "bigdata_y\n"
   ]
  },
  {
   "cell_type": "code",
   "execution_count": 207,
   "metadata": {},
   "outputs": [],
   "source": [
    "##slicing\n",
    "train_x = bigdata_x[:int(SAMPLEX/2)]\n",
    "test_x = bigdata_x[int(SAMPLEX/2):]\n",
    "\n",
    "train_y = bigdata_y[:int(SAMPLEX/2)]\n",
    "test_y = bigdata_y[int(SAMPLEX/2):]"
   ]
  },
  {
   "cell_type": "code",
   "execution_count": 210,
   "metadata": {},
   "outputs": [],
   "source": [
    "train_y = np.asarray(train_y).astype('float32')\n",
    "test_y = np.asarray(test_y).astype('float32')"
   ]
  },
  {
   "cell_type": "code",
   "execution_count": 218,
   "metadata": {},
   "outputs": [],
   "source": [
    "from keras import models\n",
    "from keras import layers\n",
    "\n",
    "model_x = models.Sequential()\n",
    "model_x.add(layers.Dense(16, activation='relu', input_shape=(10000,)))\n",
    "model_x.add(layers.Dense(16, activation='tanh'))\n",
    "model_x.add(layers.Dense(1, activation='sigmoid'))\n"
   ]
  },
  {
   "cell_type": "code",
   "execution_count": 219,
   "metadata": {},
   "outputs": [],
   "source": [
    "from keras import losses\n",
    "from keras import metrics\n",
    "\n",
    "model_x.compile(optimizer=optimizers.RMSprop(lr=0.001),\n",
    "              loss=losses.binary_crossentropy,\n",
    "              metrics=[metrics.binary_accuracy])"
   ]
  },
  {
   "cell_type": "code",
   "execution_count": 220,
   "metadata": {},
   "outputs": [
    {
     "name": "stdout",
     "output_type": "stream",
     "text": [
      "Train on 15000 samples, validate on 10000 samples\n",
      "Epoch 1/10\n",
      "15000/15000 [==============================] - 2s 125us/step - loss: 0.7018 - binary_accuracy: 0.4953 - val_loss: 0.6934 - val_binary_accuracy: 0.5064\n",
      "Epoch 2/10\n",
      "15000/15000 [==============================] - 1s 71us/step - loss: 0.6934 - binary_accuracy: 0.4952 - val_loss: 0.6931 - val_binary_accuracy: 0.4937\n",
      "Epoch 3/10\n",
      "15000/15000 [==============================] - 1s 71us/step - loss: 0.6932 - binary_accuracy: 0.5005 - val_loss: 0.6931 - val_binary_accuracy: 0.5064\n",
      "Epoch 4/10\n",
      "15000/15000 [==============================] - 1s 71us/step - loss: 0.6933 - binary_accuracy: 0.4951 - val_loss: 0.6930 - val_binary_accuracy: 0.5064\n",
      "Epoch 5/10\n",
      "15000/15000 [==============================] - 1s 72us/step - loss: 0.6932 - binary_accuracy: 0.5072 - val_loss: 0.6935 - val_binary_accuracy: 0.4936\n",
      "Epoch 6/10\n",
      "15000/15000 [==============================] - 1s 71us/step - loss: 0.6941 - binary_accuracy: 0.5007 - val_loss: 0.6931 - val_binary_accuracy: 0.5064\n",
      "Epoch 7/10\n",
      "15000/15000 [==============================] - 1s 71us/step - loss: 0.6932 - binary_accuracy: 0.4980 - val_loss: 0.6931 - val_binary_accuracy: 0.5064\n",
      "Epoch 8/10\n",
      "15000/15000 [==============================] - 1s 72us/step - loss: 0.6933 - binary_accuracy: 0.4976 - val_loss: 0.6938 - val_binary_accuracy: 0.4936\n",
      "Epoch 9/10\n",
      "15000/15000 [==============================] - 1s 73us/step - loss: 0.6933 - binary_accuracy: 0.4948 - val_loss: 0.6931 - val_binary_accuracy: 0.5064\n",
      "Epoch 10/10\n",
      "15000/15000 [==============================] - 1s 76us/step - loss: 0.6942 - binary_accuracy: 0.5029 - val_loss: 0.6932 - val_binary_accuracy: 0.4936\n"
     ]
    }
   ],
   "source": [
    "x_val = train_x[15000:] ##validation\n",
    "partial_train_x = train_x[:15000] \n",
    "\n",
    "y_val = train_y[15000:]\n",
    "partial_train_y = train_y[:15000]\n",
    "\n",
    "history = model_x.fit(partial_train_x,\n",
    "                    partial_train_y,\n",
    "                    epochs=10, \n",
    "                    batch_size=512,\n",
    "                    validation_data=(x_val, y_val))"
   ]
  },
  {
   "cell_type": "code",
   "execution_count": 221,
   "metadata": {},
   "outputs": [
    {
     "name": "stdout",
     "output_type": "stream",
     "text": [
      "25000/25000 [==============================] - 1s 35us/step\n"
     ]
    }
   ],
   "source": [
    "results_x = model_x.evaluate(test_x, test_y)"
   ]
  },
  {
   "cell_type": "code",
   "execution_count": 222,
   "metadata": {},
   "outputs": [
    {
     "data": {
      "text/plain": [
       "[0.6930901418304444, 0.50656]"
      ]
     },
     "execution_count": 222,
     "metadata": {},
     "output_type": "execute_result"
    }
   ],
   "source": [
    "results_x"
   ]
  },
  {
   "cell_type": "code",
   "execution_count": null,
   "metadata": {},
   "outputs": [],
   "source": []
  }
 ],
 "metadata": {
  "kernelspec": {
   "display_name": "Python 3",
   "language": "python",
   "name": "python3"
  },
  "language_info": {
   "codemirror_mode": {
    "name": "ipython",
    "version": 3
   },
   "file_extension": ".py",
   "mimetype": "text/x-python",
   "name": "python",
   "nbconvert_exporter": "python",
   "pygments_lexer": "ipython3",
   "version": "3.6.8"
  }
 },
 "nbformat": 4,
 "nbformat_minor": 2
}
